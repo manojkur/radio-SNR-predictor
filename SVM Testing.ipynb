{
 "cells": [
  {
   "cell_type": "code",
   "execution_count": 76,
   "metadata": {},
   "outputs": [],
   "source": [
    "import numpy as np\n",
    "import pandas as pd\n",
    "import radio_snr\n",
    "\n",
    "from sklearn.cross_validation import cross_val_score\n",
    "from sklearn.svm import SVR, SVC\n",
    "\n",
    "import matplotlib.pyplot as plt\n",
    "%matplotlib inline"
   ]
  },
  {
   "cell_type": "code",
   "execution_count": 59,
   "metadata": {},
   "outputs": [
    {
     "name": "stdout",
     "output_type": "stream",
     "text": [
      "(15241, 15)\n"
     ]
    },
    {
     "data": {
      "text/plain": [
       "(3048, 15)"
      ]
     },
     "execution_count": 59,
     "metadata": {},
     "output_type": "execute_result"
    }
   ],
   "source": [
    "df = pd.read_csv('wspr_sample.csv', index_col=0)\n",
    "print(df.shape)\n",
    "df = df.sample(frac=0.2)\n",
    "df.shape"
   ]
  },
  {
   "cell_type": "code",
   "execution_count": 60,
   "metadata": {},
   "outputs": [
    {
     "data": {
      "text/html": [
       "<div>\n",
       "<style scoped>\n",
       "    .dataframe tbody tr th:only-of-type {\n",
       "        vertical-align: middle;\n",
       "    }\n",
       "\n",
       "    .dataframe tbody tr th {\n",
       "        vertical-align: top;\n",
       "    }\n",
       "\n",
       "    .dataframe thead th {\n",
       "        text-align: right;\n",
       "    }\n",
       "</style>\n",
       "<table border=\"1\" class=\"dataframe\">\n",
       "  <thead>\n",
       "    <tr style=\"text-align: right;\">\n",
       "      <th></th>\n",
       "      <th>spot</th>\n",
       "      <th>reporter</th>\n",
       "      <th>snr</th>\n",
       "      <th>frequency</th>\n",
       "      <th>tx_call</th>\n",
       "      <th>power</th>\n",
       "      <th>drift</th>\n",
       "      <th>distance</th>\n",
       "      <th>azimuth</th>\n",
       "      <th>band</th>\n",
       "      <th>version</th>\n",
       "      <th>code</th>\n",
       "      <th>rx_lat</th>\n",
       "      <th>rx_long</th>\n",
       "      <th>tx_lat</th>\n",
       "      <th>tx_long</th>\n",
       "      <th>day</th>\n",
       "      <th>hour</th>\n",
       "    </tr>\n",
       "  </thead>\n",
       "  <tbody>\n",
       "    <tr>\n",
       "      <th>16405727</th>\n",
       "      <td>1105673034</td>\n",
       "      <td>KA4PKB/0</td>\n",
       "      <td>-16</td>\n",
       "      <td>14.097069</td>\n",
       "      <td>KM6ORN</td>\n",
       "      <td>37</td>\n",
       "      <td>0</td>\n",
       "      <td>2673</td>\n",
       "      <td>72</td>\n",
       "      <td>14</td>\n",
       "      <td>1.8.0</td>\n",
       "      <td>0</td>\n",
       "      <td>41.229167</td>\n",
       "      <td>-91.125000</td>\n",
       "      <td>37.770833</td>\n",
       "      <td>-122.125000</td>\n",
       "      <td>17606</td>\n",
       "      <td>21</td>\n",
       "    </tr>\n",
       "    <tr>\n",
       "      <th>10538449</th>\n",
       "      <td>1099742015</td>\n",
       "      <td>KU4A</td>\n",
       "      <td>-25</td>\n",
       "      <td>7.040063</td>\n",
       "      <td>VK2RH</td>\n",
       "      <td>37</td>\n",
       "      <td>0</td>\n",
       "      <td>15019</td>\n",
       "      <td>67</td>\n",
       "      <td>7</td>\n",
       "      <td>1.8.0-rc2</td>\n",
       "      <td>0</td>\n",
       "      <td>38.000000</td>\n",
       "      <td>-86.000000</td>\n",
       "      <td>-33.895833</td>\n",
       "      <td>151.208333</td>\n",
       "      <td>17601</td>\n",
       "      <td>9</td>\n",
       "    </tr>\n",
       "    <tr>\n",
       "      <th>18469944</th>\n",
       "      <td>1107740530</td>\n",
       "      <td>KR6ZY</td>\n",
       "      <td>-22</td>\n",
       "      <td>10.140165</td>\n",
       "      <td>VA7TZ</td>\n",
       "      <td>30</td>\n",
       "      <td>0</td>\n",
       "      <td>1642</td>\n",
       "      <td>183</td>\n",
       "      <td>10</td>\n",
       "      <td>NaN</td>\n",
       "      <td>0</td>\n",
       "      <td>35.104167</td>\n",
       "      <td>-120.541667</td>\n",
       "      <td>49.854167</td>\n",
       "      <td>-119.541667</td>\n",
       "      <td>17608</td>\n",
       "      <td>21</td>\n",
       "    </tr>\n",
       "    <tr>\n",
       "      <th>3486130</th>\n",
       "      <td>1092642182</td>\n",
       "      <td>DL2ZZ</td>\n",
       "      <td>-14</td>\n",
       "      <td>10.140244</td>\n",
       "      <td>IZ4LXP</td>\n",
       "      <td>37</td>\n",
       "      <td>0</td>\n",
       "      <td>868</td>\n",
       "      <td>341</td>\n",
       "      <td>10</td>\n",
       "      <td>NaN</td>\n",
       "      <td>0</td>\n",
       "      <td>51.604167</td>\n",
       "      <td>6.958333</td>\n",
       "      <td>44.270833</td>\n",
       "      <td>10.958333</td>\n",
       "      <td>17594</td>\n",
       "      <td>9</td>\n",
       "    </tr>\n",
       "    <tr>\n",
       "      <th>2764877</th>\n",
       "      <td>1091918603</td>\n",
       "      <td>DK8FT/A</td>\n",
       "      <td>-5</td>\n",
       "      <td>7.040201</td>\n",
       "      <td>F4EYW</td>\n",
       "      <td>33</td>\n",
       "      <td>0</td>\n",
       "      <td>758</td>\n",
       "      <td>89</td>\n",
       "      <td>7</td>\n",
       "      <td>NaN</td>\n",
       "      <td>0</td>\n",
       "      <td>48.187500</td>\n",
       "      <td>11.208333</td>\n",
       "      <td>48.000000</td>\n",
       "      <td>0.000000</td>\n",
       "      <td>17593</td>\n",
       "      <td>16</td>\n",
       "    </tr>\n",
       "  </tbody>\n",
       "</table>\n",
       "</div>"
      ],
      "text/plain": [
       "                spot  reporter  snr  frequency tx_call  power  drift  \\\n",
       "16405727  1105673034  KA4PKB/0  -16  14.097069  KM6ORN     37      0   \n",
       "10538449  1099742015      KU4A  -25   7.040063   VK2RH     37      0   \n",
       "18469944  1107740530     KR6ZY  -22  10.140165   VA7TZ     30      0   \n",
       "3486130   1092642182     DL2ZZ  -14  10.140244  IZ4LXP     37      0   \n",
       "2764877   1091918603   DK8FT/A   -5   7.040201   F4EYW     33      0   \n",
       "\n",
       "          distance  azimuth  band    version  code     rx_lat     rx_long  \\\n",
       "16405727      2673       72    14      1.8.0     0  41.229167  -91.125000   \n",
       "10538449     15019       67     7  1.8.0-rc2     0  38.000000  -86.000000   \n",
       "18469944      1642      183    10        NaN     0  35.104167 -120.541667   \n",
       "3486130        868      341    10        NaN     0  51.604167    6.958333   \n",
       "2764877        758       89     7        NaN     0  48.187500   11.208333   \n",
       "\n",
       "             tx_lat     tx_long    day  hour  \n",
       "16405727  37.770833 -122.125000  17606    21  \n",
       "10538449 -33.895833  151.208333  17601     9  \n",
       "18469944  49.854167 -119.541667  17608    21  \n",
       "3486130   44.270833   10.958333  17594     9  \n",
       "2764877   48.000000    0.000000  17593    16  "
      ]
     },
     "execution_count": 60,
     "metadata": {},
     "output_type": "execute_result"
    }
   ],
   "source": [
    "df = radio_snr.preprocess_data(df)\n",
    "df.head()"
   ]
  },
  {
   "cell_type": "code",
   "execution_count": 61,
   "metadata": {},
   "outputs": [],
   "source": [
    "feature_names = [\"frequency\",\n",
    "                 \"power\",\n",
    "                 \"drift\",\n",
    "                 \"distance\",\n",
    "                 \"azimuth\",\n",
    "                 \"band\",\n",
    "                 \"rx_lat\",\n",
    "                 \"rx_long\",\n",
    "                 \"tx_lat\",\n",
    "                 \"tx_long\",\n",
    "                 \"day\",\n",
    "                 \"hour\"]\n",
    "features = df[feature_names]\n",
    "target = df[\"snr\"]"
   ]
  },
  {
   "cell_type": "code",
   "execution_count": 122,
   "metadata": {},
   "outputs": [
    {
     "name": "stdout",
     "output_type": "stream",
     "text": [
      "test rmse: 9.344256 train r2: 0.146156\n",
      "test rmse: 9.352514 train r2: 0.160816\n",
      "test rmse: 9.361745 train r2: 0.172402\n",
      "test rmse: 9.370871 train r2: 0.182206\n",
      "test rmse: 9.380514 train r2: 0.189785\n",
      "test rmse: 9.391761 train r2: 0.195919\n",
      "test rmse: 9.406647 train r2: 0.200861\n",
      "test rmse: 9.421348 train r2: 0.205008\n",
      "test rmse: 9.436465 train r2: 0.209040\n",
      "test rmse: 9.449863 train r2: 0.212703\n",
      "test rmse: 9.463348 train r2: 0.216004\n",
      "test rmse: 9.478075 train r2: 0.219191\n",
      "test rmse: 9.492291 train r2: 0.222425\n",
      "test rmse: 9.502205 train r2: 0.225451\n",
      "test rmse: 9.514754 train r2: 0.228153\n",
      "test rmse: 9.525138 train r2: 0.230841\n",
      "test rmse: 9.536127 train r2: 0.233435\n",
      "test rmse: 9.546247 train r2: 0.235930\n",
      "test rmse: 9.556573 train r2: 0.238269\n",
      "test rmse: 9.565520 train r2: 0.240388\n"
     ]
    },
    {
     "data": {
      "text/html": [
       "<div>\n",
       "<style scoped>\n",
       "    .dataframe tbody tr th:only-of-type {\n",
       "        vertical-align: middle;\n",
       "    }\n",
       "\n",
       "    .dataframe tbody tr th {\n",
       "        vertical-align: top;\n",
       "    }\n",
       "\n",
       "    .dataframe thead th {\n",
       "        text-align: right;\n",
       "    }\n",
       "</style>\n",
       "<table border=\"1\" class=\"dataframe\">\n",
       "  <thead>\n",
       "    <tr style=\"text-align: right;\">\n",
       "      <th></th>\n",
       "      <th>C</th>\n",
       "      <th>RMSE</th>\n",
       "      <th>r2</th>\n",
       "      <th>test r2</th>\n",
       "    </tr>\n",
       "  </thead>\n",
       "  <tbody>\n",
       "    <tr>\n",
       "      <th>0</th>\n",
       "      <td>5.000000</td>\n",
       "      <td>9.344256</td>\n",
       "      <td>0.146156</td>\n",
       "      <td>0.044399</td>\n",
       "    </tr>\n",
       "    <tr>\n",
       "      <th>1</th>\n",
       "      <td>6.842105</td>\n",
       "      <td>9.352514</td>\n",
       "      <td>0.160816</td>\n",
       "      <td>0.042642</td>\n",
       "    </tr>\n",
       "    <tr>\n",
       "      <th>2</th>\n",
       "      <td>8.684211</td>\n",
       "      <td>9.361745</td>\n",
       "      <td>0.172402</td>\n",
       "      <td>0.040745</td>\n",
       "    </tr>\n",
       "    <tr>\n",
       "      <th>3</th>\n",
       "      <td>10.526316</td>\n",
       "      <td>9.370871</td>\n",
       "      <td>0.182206</td>\n",
       "      <td>0.038855</td>\n",
       "    </tr>\n",
       "    <tr>\n",
       "      <th>4</th>\n",
       "      <td>12.368421</td>\n",
       "      <td>9.380514</td>\n",
       "      <td>0.189785</td>\n",
       "      <td>0.036811</td>\n",
       "    </tr>\n",
       "  </tbody>\n",
       "</table>\n",
       "</div>"
      ],
      "text/plain": [
       "           C      RMSE        r2   test r2\n",
       "0   5.000000  9.344256  0.146156  0.044399\n",
       "1   6.842105  9.352514  0.160816  0.042642\n",
       "2   8.684211  9.361745  0.172402  0.040745\n",
       "3  10.526316  9.370871  0.182206  0.038855\n",
       "4  12.368421  9.380514  0.189785  0.036811"
      ]
     },
     "execution_count": 122,
     "metadata": {},
     "output_type": "execute_result"
    }
   ],
   "source": [
    "minc, maxc = 5, 40\n",
    "c_vals = np.linspace(minc, maxc, 20)\n",
    "rmse = []\n",
    "r2 = []\n",
    "test_r2 = []\n",
    "for c in c_vals:\n",
    "    svr = SVR(C=c)\n",
    "    test_rmse = np.sqrt(-1 * cross_val_score(svr, features, target, scoring='neg_mean_squared_error').mean())\n",
    "    rmse.append(test_rmse)\n",
    "    test_r2.append(cross_val_score(svr, features, target, scoring='r2').mean())\n",
    "    svr.fit(features, target)\n",
    "    train_r2 = svr.score(features, target)\n",
    "    r2.append(train_r2)\n",
    "    print(\"test rmse: %f train r2: %f\" %(test_rmse, train_r2))\n",
    "errs = pd.DataFrame()\n",
    "errs[\"C\"] = c_vals\n",
    "errs[\"RMSE\"] = rmse\n",
    "errs[\"r2\"] = r2\n",
    "errs[\"test r2\"] = test_r2\n",
    "errs.sort_values(\"RMSE\").head()"
   ]
  },
  {
   "cell_type": "code",
   "execution_count": 62,
   "metadata": {},
   "outputs": [
    {
     "data": {
      "text/plain": [
       "2    426\n",
       "5    323\n",
       "0    323\n",
       "7    312\n",
       "1    302\n",
       "8    297\n",
       "9    290\n",
       "3    288\n",
       "6    247\n",
       "4    240\n",
       "Name: snr, dtype: int64"
      ]
     },
     "execution_count": 62,
     "metadata": {},
     "output_type": "execute_result"
    }
   ],
   "source": [
    "target_classes, bins = pd.qcut(target, 10, labels=[i for i in range(10)], retbins=True)\n",
    "target_classes.value_counts()"
   ]
  },
  {
   "cell_type": "code",
   "execution_count": 51,
   "metadata": {},
   "outputs": [
    {
     "name": "stdout",
     "output_type": "stream",
     "text": [
      "test accuracy:  0.12729566491018948\n",
      "train accuracy:  1.0\n"
     ]
    }
   ],
   "source": [
    "svr = SVC(C=40)\n",
    "print(\"test accuracy: \", cross_val_score(svr, features, target_classes, scoring='accuracy').mean())\n",
    "svr.fit(features, target_classes)\n",
    "print(\"train accuracy: \", svr.score(features, target_classes))"
   ]
  },
  {
   "cell_type": "code",
   "execution_count": 52,
   "metadata": {},
   "outputs": [
    {
     "name": "stdout",
     "output_type": "stream",
     "text": [
      "test rmse: 0.356785 train r2: 0.004593\n",
      "test rmse: 0.356785 train r2: 0.004593\n",
      "test rmse: 0.356785 train r2: 0.004593\n",
      "test rmse: 0.356785 train r2: 0.004593\n",
      "test rmse: 0.356785 train r2: 0.004593\n",
      "test rmse: 0.356785 train r2: 0.004593\n",
      "test rmse: 0.356785 train r2: 0.004593\n",
      "test rmse: 0.356785 train r2: 0.004593\n",
      "test rmse: 0.356785 train r2: 0.004593\n",
      "test rmse: 0.356785 train r2: 0.004593\n"
     ]
    }
   ],
   "source": [
    "minc_classification, maxc_classification = 5, 40\n",
    "c_vals_classification = np.linspace(minc, maxc, 10)\n",
    "rmse_classifier = []\n",
    "r2_classifier = []\n",
    "for c in c_vals_classification:\n",
    "    svr = SVC(C=c)\n",
    "    test_rmse = np.sqrt(cross_val_score(svr, features, target_classes, scoring='accuracy').mean())\n",
    "    rmse_classifier.append(test_rmse)\n",
    "    svr.fit(features, target)\n",
    "    train_r2 = svr.score(features, target_classes)\n",
    "    r2_classifier.append(train_r2)\n",
    "    print(\"test rmse: %f train r2: %f\" %(test_rmse, train_r2))\n"
   ]
  },
  {
   "cell_type": "code",
   "execution_count": 53,
   "metadata": {},
   "outputs": [],
   "source": [
    "from sklearn.model_selection import GridSearchCV"
   ]
  },
  {
   "cell_type": "code",
   "execution_count": 63,
   "metadata": {},
   "outputs": [
    {
     "data": {
      "text/plain": [
       "GridSearchCV(cv=None, error_score='raise',\n",
       "       estimator=SVC(C=1.0, cache_size=200, class_weight=None, coef0=0.0,\n",
       "  decision_function_shape='ovr', degree=3, gamma='auto', kernel='rbf',\n",
       "  max_iter=-1, probability=False, random_state=None, shrinking=True,\n",
       "  tol=0.001, verbose=False),\n",
       "       fit_params=None, iid=True, n_jobs=1,\n",
       "       param_grid={'kernel': ['rbf', 'sigmoid'], 'C': [0.1, 1.2000000000000002, 2.3000000000000003, 3.4000000000000004, 4.5, 5.6, 6.7, 7.800000000000001, 8.9, 10.0], 'gamma': [0.001, 0.05644444444444444, 0.11188888888888888, 0.16733333333333333, 0.22277777777777777, 0.2782222222222222, 0.33366666666666667, 0.3891111111111111, 0.44455555555555554, 0.5]},\n",
       "       pre_dispatch='2*n_jobs', refit=True, return_train_score='warn',\n",
       "       scoring=None, verbose=0)"
      ]
     },
     "execution_count": 63,
     "metadata": {},
     "output_type": "execute_result"
    }
   ],
   "source": [
    "params = {'kernel':[\"rbf\", \"sigmoid\"], \n",
    "          \"C\": list(np.linspace(0.1, 10, 10)),\n",
    "          \"gamma\":list(np.linspace(0.001, 0.5, 10))\n",
    "         }\n",
    "gs_svc = SVC()\n",
    "gs = GridSearchCV(gs_svc, params)\n",
    "gs.fit(features, target_classes)"
   ]
  },
  {
   "cell_type": "code",
   "execution_count": 64,
   "metadata": {},
   "outputs": [
    {
     "data": {
      "text/plain": [
       "dict_keys(['mean_fit_time', 'std_fit_time', 'mean_score_time', 'std_score_time', 'param_C', 'param_gamma', 'param_kernel', 'params', 'split0_test_score', 'split1_test_score', 'split2_test_score', 'mean_test_score', 'std_test_score', 'rank_test_score', 'split0_train_score', 'split1_train_score', 'split2_train_score', 'mean_train_score', 'std_train_score'])"
      ]
     },
     "execution_count": 64,
     "metadata": {},
     "output_type": "execute_result"
    }
   ],
   "source": [
    "gs.cv_results_.keys()"
   ]
  },
  {
   "cell_type": "code",
   "execution_count": 65,
   "metadata": {},
   "outputs": [],
   "source": [
    "bestsvc = gs.best_estimator_"
   ]
  },
  {
   "cell_type": "code",
   "execution_count": 66,
   "metadata": {},
   "outputs": [
    {
     "data": {
      "text/plain": [
       "0.1410777242156663"
      ]
     },
     "execution_count": 66,
     "metadata": {},
     "output_type": "execute_result"
    }
   ],
   "source": [
    "cross_val_score(bestsvc, features, target_classes, scoring=\"accuracy\").mean()"
   ]
  },
  {
   "cell_type": "code",
   "execution_count": 67,
   "metadata": {},
   "outputs": [
    {
     "data": {
      "text/plain": [
       "{'C': 1.2000000000000002, 'gamma': 0.11188888888888888, 'kernel': 'rbf'}"
      ]
     },
     "execution_count": 67,
     "metadata": {},
     "output_type": "execute_result"
    }
   ],
   "source": [
    "gs.best_params_"
   ]
  },
  {
   "cell_type": "code",
   "execution_count": 68,
   "metadata": {},
   "outputs": [],
   "source": [
    "from sklearn.decomposition import PCA"
   ]
  },
  {
   "cell_type": "code",
   "execution_count": 69,
   "metadata": {},
   "outputs": [
    {
     "data": {
      "text/html": [
       "<div>\n",
       "<style scoped>\n",
       "    .dataframe tbody tr th:only-of-type {\n",
       "        vertical-align: middle;\n",
       "    }\n",
       "\n",
       "    .dataframe tbody tr th {\n",
       "        vertical-align: top;\n",
       "    }\n",
       "\n",
       "    .dataframe thead th {\n",
       "        text-align: right;\n",
       "    }\n",
       "</style>\n",
       "<table border=\"1\" class=\"dataframe\">\n",
       "  <thead>\n",
       "    <tr style=\"text-align: right;\">\n",
       "      <th></th>\n",
       "      <th>frequency</th>\n",
       "      <th>power</th>\n",
       "      <th>drift</th>\n",
       "      <th>distance</th>\n",
       "      <th>azimuth</th>\n",
       "      <th>band</th>\n",
       "      <th>rx_lat</th>\n",
       "      <th>rx_long</th>\n",
       "      <th>tx_lat</th>\n",
       "      <th>tx_long</th>\n",
       "      <th>day</th>\n",
       "      <th>hour</th>\n",
       "    </tr>\n",
       "  </thead>\n",
       "  <tbody>\n",
       "    <tr>\n",
       "      <th>count</th>\n",
       "      <td>3.048000e+03</td>\n",
       "      <td>3.048000e+03</td>\n",
       "      <td>3.048000e+03</td>\n",
       "      <td>3.048000e+03</td>\n",
       "      <td>3.048000e+03</td>\n",
       "      <td>3.048000e+03</td>\n",
       "      <td>3.048000e+03</td>\n",
       "      <td>3.048000e+03</td>\n",
       "      <td>3.048000e+03</td>\n",
       "      <td>3.048000e+03</td>\n",
       "      <td>3.048000e+03</td>\n",
       "      <td>3.048000e+03</td>\n",
       "    </tr>\n",
       "    <tr>\n",
       "      <th>mean</th>\n",
       "      <td>3.661623e-15</td>\n",
       "      <td>2.402933e-16</td>\n",
       "      <td>-3.855548e-17</td>\n",
       "      <td>-2.697245e-17</td>\n",
       "      <td>6.472659e-17</td>\n",
       "      <td>-6.556435e-19</td>\n",
       "      <td>-1.314387e-14</td>\n",
       "      <td>1.621625e-16</td>\n",
       "      <td>-5.286854e-15</td>\n",
       "      <td>-1.246087e-15</td>\n",
       "      <td>2.320290e-14</td>\n",
       "      <td>-7.095520e-17</td>\n",
       "    </tr>\n",
       "    <tr>\n",
       "      <th>std</th>\n",
       "      <td>1.000000e+00</td>\n",
       "      <td>1.000000e+00</td>\n",
       "      <td>1.000000e+00</td>\n",
       "      <td>1.000000e+00</td>\n",
       "      <td>1.000000e+00</td>\n",
       "      <td>1.000000e+00</td>\n",
       "      <td>1.000000e+00</td>\n",
       "      <td>1.000000e+00</td>\n",
       "      <td>1.000000e+00</td>\n",
       "      <td>1.000000e+00</td>\n",
       "      <td>1.000000e+00</td>\n",
       "      <td>1.000000e+00</td>\n",
       "    </tr>\n",
       "    <tr>\n",
       "      <th>min</th>\n",
       "      <td>-1.323947e+00</td>\n",
       "      <td>-4.137969e+00</td>\n",
       "      <td>-5.561611e+00</td>\n",
       "      <td>-8.438938e-01</td>\n",
       "      <td>-1.541989e+00</td>\n",
       "      <td>-1.459767e+00</td>\n",
       "      <td>-7.739629e+00</td>\n",
       "      <td>-2.370383e+00</td>\n",
       "      <td>-6.525596e+00</td>\n",
       "      <td>-2.404583e+00</td>\n",
       "      <td>-1.608915e+00</td>\n",
       "      <td>-1.882221e+00</td>\n",
       "    </tr>\n",
       "    <tr>\n",
       "      <th>25%</th>\n",
       "      <td>-4.056861e-01</td>\n",
       "      <td>-9.612181e-01</td>\n",
       "      <td>1.920726e-01</td>\n",
       "      <td>-5.126186e-01</td>\n",
       "      <td>-9.334981e-01</td>\n",
       "      <td>-4.115822e-01</td>\n",
       "      <td>-3.400597e-01</td>\n",
       "      <td>-1.003620e+00</td>\n",
       "      <td>-3.315818e-01</td>\n",
       "      <td>-1.024640e+00</td>\n",
       "      <td>-8.624539e-01</td>\n",
       "      <td>-8.200646e-01</td>\n",
       "    </tr>\n",
       "    <tr>\n",
       "      <th>50%</th>\n",
       "      <td>-9.349578e-02</td>\n",
       "      <td>5.619038e-03</td>\n",
       "      <td>1.920726e-01</td>\n",
       "      <td>-2.951737e-01</td>\n",
       "      <td>-1.024997e-01</td>\n",
       "      <td>-6.218726e-02</td>\n",
       "      <td>2.852166e-01</td>\n",
       "      <td>4.884932e-01</td>\n",
       "      <td>2.133948e-01</td>\n",
       "      <td>4.423293e-01</td>\n",
       "      <td>-6.069940e-02</td>\n",
       "      <td>9.035495e-02</td>\n",
       "    </tr>\n",
       "    <tr>\n",
       "      <th>75%</th>\n",
       "      <td>4.591155e-01</td>\n",
       "      <td>9.724562e-01</td>\n",
       "      <td>1.920726e-01</td>\n",
       "      <td>9.155725e-02</td>\n",
       "      <td>9.827933e-01</td>\n",
       "      <td>4.619052e-01</td>\n",
       "      <td>5.291584e-01</td>\n",
       "      <td>6.425372e-01</td>\n",
       "      <td>5.470232e-01</td>\n",
       "      <td>5.997343e-01</td>\n",
       "      <td>8.239953e-01</td>\n",
       "      <td>8.490379e-01</td>\n",
       "    </tr>\n",
       "    <tr>\n",
       "      <th>max</th>\n",
       "      <td>2.440804e+01</td>\n",
       "      <td>3.182370e+00</td>\n",
       "      <td>5.945756e+00</td>\n",
       "      <td>7.270646e+00</td>\n",
       "      <td>1.727513e+00</td>\n",
       "      <td>2.387137e+01</td>\n",
       "      <td>1.664750e+00</td>\n",
       "      <td>3.619212e+00</td>\n",
       "      <td>1.809074e+00</td>\n",
       "      <td>3.585890e+00</td>\n",
       "      <td>1.708690e+00</td>\n",
       "      <td>1.607721e+00</td>\n",
       "    </tr>\n",
       "  </tbody>\n",
       "</table>\n",
       "</div>"
      ],
      "text/plain": [
       "          frequency         power         drift      distance       azimuth  \\\n",
       "count  3.048000e+03  3.048000e+03  3.048000e+03  3.048000e+03  3.048000e+03   \n",
       "mean   3.661623e-15  2.402933e-16 -3.855548e-17 -2.697245e-17  6.472659e-17   \n",
       "std    1.000000e+00  1.000000e+00  1.000000e+00  1.000000e+00  1.000000e+00   \n",
       "min   -1.323947e+00 -4.137969e+00 -5.561611e+00 -8.438938e-01 -1.541989e+00   \n",
       "25%   -4.056861e-01 -9.612181e-01  1.920726e-01 -5.126186e-01 -9.334981e-01   \n",
       "50%   -9.349578e-02  5.619038e-03  1.920726e-01 -2.951737e-01 -1.024997e-01   \n",
       "75%    4.591155e-01  9.724562e-01  1.920726e-01  9.155725e-02  9.827933e-01   \n",
       "max    2.440804e+01  3.182370e+00  5.945756e+00  7.270646e+00  1.727513e+00   \n",
       "\n",
       "               band        rx_lat       rx_long        tx_lat       tx_long  \\\n",
       "count  3.048000e+03  3.048000e+03  3.048000e+03  3.048000e+03  3.048000e+03   \n",
       "mean  -6.556435e-19 -1.314387e-14  1.621625e-16 -5.286854e-15 -1.246087e-15   \n",
       "std    1.000000e+00  1.000000e+00  1.000000e+00  1.000000e+00  1.000000e+00   \n",
       "min   -1.459767e+00 -7.739629e+00 -2.370383e+00 -6.525596e+00 -2.404583e+00   \n",
       "25%   -4.115822e-01 -3.400597e-01 -1.003620e+00 -3.315818e-01 -1.024640e+00   \n",
       "50%   -6.218726e-02  2.852166e-01  4.884932e-01  2.133948e-01  4.423293e-01   \n",
       "75%    4.619052e-01  5.291584e-01  6.425372e-01  5.470232e-01  5.997343e-01   \n",
       "max    2.387137e+01  1.664750e+00  3.619212e+00  1.809074e+00  3.585890e+00   \n",
       "\n",
       "                day          hour  \n",
       "count  3.048000e+03  3.048000e+03  \n",
       "mean   2.320290e-14 -7.095520e-17  \n",
       "std    1.000000e+00  1.000000e+00  \n",
       "min   -1.608915e+00 -1.882221e+00  \n",
       "25%   -8.624539e-01 -8.200646e-01  \n",
       "50%   -6.069940e-02  9.035495e-02  \n",
       "75%    8.239953e-01  8.490379e-01  \n",
       "max    1.708690e+00  1.607721e+00  "
      ]
     },
     "execution_count": 69,
     "metadata": {},
     "output_type": "execute_result"
    }
   ],
   "source": [
    "features = (features - features.mean())/features.std()\n",
    "features.describe()"
   ]
  },
  {
   "cell_type": "code",
   "execution_count": 70,
   "metadata": {},
   "outputs": [
    {
     "data": {
      "text/plain": [
       "PCA(copy=True, iterated_power='auto', n_components=None, random_state=None,\n",
       "  svd_solver='auto', tol=0.0, whiten=False)"
      ]
     },
     "execution_count": 70,
     "metadata": {},
     "output_type": "execute_result"
    }
   ],
   "source": [
    "pca = PCA()\n",
    "pca.fit(features)"
   ]
  },
  {
   "cell_type": "code",
   "execution_count": 77,
   "metadata": {},
   "outputs": [
    {
     "data": {
      "text/plain": [
       "<matplotlib.axes._subplots.AxesSubplot at 0x7f4519a28780>"
      ]
     },
     "execution_count": 77,
     "metadata": {},
     "output_type": "execute_result"
    },
    {
     "data": {
      "image/png": "[encoded data removed]",
      "text/plain": [
       "<matplotlib.figure.Figure at 0x7f4519e92b38>"
      ]
     },
     "metadata": {},
     "output_type": "display_data"
    }
   ],
   "source": [
    "pve = pd.DataFrame(pca.explained_variance_ratio_, index=[\"PC\"+str(i) for i in range(len(pca.explained_variance_ratio_))])\n",
    "pve.plot.barh(color='red')"
   ]
  },
  {
   "cell_type": "code",
   "execution_count": 80,
   "metadata": {},
   "outputs": [
    {
     "data": {
      "text/html": [
       "<div>\n",
       "<style scoped>\n",
       "    .dataframe tbody tr th:only-of-type {\n",
       "        vertical-align: middle;\n",
       "    }\n",
       "\n",
       "    .dataframe tbody tr th {\n",
       "        vertical-align: top;\n",
       "    }\n",
       "\n",
       "    .dataframe thead th {\n",
       "        text-align: right;\n",
       "    }\n",
       "</style>\n",
       "<table border=\"1\" class=\"dataframe\">\n",
       "  <thead>\n",
       "    <tr style=\"text-align: right;\">\n",
       "      <th></th>\n",
       "      <th>PC0</th>\n",
       "      <th>PC1</th>\n",
       "      <th>PC2</th>\n",
       "      <th>PC3</th>\n",
       "      <th>PC4</th>\n",
       "      <th>PC5</th>\n",
       "      <th>PC6</th>\n",
       "      <th>PC7</th>\n",
       "      <th>PC8</th>\n",
       "      <th>PC9</th>\n",
       "      <th>PC10</th>\n",
       "      <th>PC11</th>\n",
       "    </tr>\n",
       "  </thead>\n",
       "  <tbody>\n",
       "    <tr>\n",
       "      <th>0</th>\n",
       "      <td>1.960190</td>\n",
       "      <td>-1.270836</td>\n",
       "      <td>1.479361</td>\n",
       "      <td>0.588865</td>\n",
       "      <td>0.082704</td>\n",
       "      <td>-1.411924</td>\n",
       "      <td>1.025799</td>\n",
       "      <td>-0.129566</td>\n",
       "      <td>0.232171</td>\n",
       "      <td>0.069845</td>\n",
       "      <td>-0.209046</td>\n",
       "      <td>0.006634</td>\n",
       "    </tr>\n",
       "    <tr>\n",
       "      <th>1</th>\n",
       "      <td>4.318921</td>\n",
       "      <td>-1.236890</td>\n",
       "      <td>-5.438284</td>\n",
       "      <td>0.136778</td>\n",
       "      <td>-1.246007</td>\n",
       "      <td>-0.808453</td>\n",
       "      <td>0.377450</td>\n",
       "      <td>-0.922026</td>\n",
       "      <td>-3.447479</td>\n",
       "      <td>-4.527352</td>\n",
       "      <td>1.512608</td>\n",
       "      <td>-0.001058</td>\n",
       "    </tr>\n",
       "    <tr>\n",
       "      <th>2</th>\n",
       "      <td>0.906132</td>\n",
       "      <td>-1.657476</td>\n",
       "      <td>1.722819</td>\n",
       "      <td>0.051477</td>\n",
       "      <td>0.840806</td>\n",
       "      <td>-0.544597</td>\n",
       "      <td>0.281088</td>\n",
       "      <td>-0.654554</td>\n",
       "      <td>0.161595</td>\n",
       "      <td>0.769496</td>\n",
       "      <td>0.238152</td>\n",
       "      <td>0.002948</td>\n",
       "    </tr>\n",
       "    <tr>\n",
       "      <th>3</th>\n",
       "      <td>0.123532</td>\n",
       "      <td>0.853891</td>\n",
       "      <td>-0.016107</td>\n",
       "      <td>-1.954220</td>\n",
       "      <td>-0.591567</td>\n",
       "      <td>-0.389507</td>\n",
       "      <td>-0.756764</td>\n",
       "      <td>0.795943</td>\n",
       "      <td>0.561457</td>\n",
       "      <td>-0.430987</td>\n",
       "      <td>-0.376089</td>\n",
       "      <td>-0.008776</td>\n",
       "    </tr>\n",
       "    <tr>\n",
       "      <th>4</th>\n",
       "      <td>-0.504986</td>\n",
       "      <td>0.881504</td>\n",
       "      <td>0.015482</td>\n",
       "      <td>0.024594</td>\n",
       "      <td>-1.028804</td>\n",
       "      <td>-1.246851</td>\n",
       "      <td>-0.175913</td>\n",
       "      <td>-0.388861</td>\n",
       "      <td>0.420787</td>\n",
       "      <td>0.081840</td>\n",
       "      <td>0.042193</td>\n",
       "      <td>-0.025992</td>\n",
       "    </tr>\n",
       "  </tbody>\n",
       "</table>\n",
       "</div>"
      ],
      "text/plain": [
       "        PC0       PC1       PC2       PC3       PC4       PC5       PC6  \\\n",
       "0  1.960190 -1.270836  1.479361  0.588865  0.082704 -1.411924  1.025799   \n",
       "1  4.318921 -1.236890 -5.438284  0.136778 -1.246007 -0.808453  0.377450   \n",
       "2  0.906132 -1.657476  1.722819  0.051477  0.840806 -0.544597  0.281088   \n",
       "3  0.123532  0.853891 -0.016107 -1.954220 -0.591567 -0.389507 -0.756764   \n",
       "4 -0.504986  0.881504  0.015482  0.024594 -1.028804 -1.246851 -0.175913   \n",
       "\n",
       "        PC7       PC8       PC9      PC10      PC11  \n",
       "0 -0.129566  0.232171  0.069845 -0.209046  0.006634  \n",
       "1 -0.922026 -3.447479 -4.527352  1.512608 -0.001058  \n",
       "2 -0.654554  0.161595  0.769496  0.238152  0.002948  \n",
       "3  0.795943  0.561457 -0.430987 -0.376089 -0.008776  \n",
       "4 -0.388861  0.420787  0.081840  0.042193 -0.025992  "
      ]
     },
     "execution_count": 80,
     "metadata": {},
     "output_type": "execute_result"
    }
   ],
   "source": [
    "pca_feats = pca.fit_transform(features)\n",
    "pca_feats = pd.DataFrame(pca_feats, columns=[\"PC\"+str(i) for i in range(pca_feats.shape[1])])\n",
    "pca_feats.head()"
   ]
  },
  {
   "cell_type": "code",
   "execution_count": 98,
   "metadata": {},
   "outputs": [
    {
     "data": {
      "text/plain": [
       "GridSearchCV(cv=None, error_score='raise',\n",
       "       estimator=SVC(C=1.0, cache_size=200, class_weight=None, coef0=0.0,\n",
       "  decision_function_shape='ovr', degree=3, gamma='auto', kernel='rbf',\n",
       "  max_iter=-1, probability=False, random_state=None, shrinking=True,\n",
       "  tol=0.001, verbose=False),\n",
       "       fit_params=None, iid=True, n_jobs=1,\n",
       "       param_grid={'kernel': ['rbf', 'sigmoid'], 'C': [0.001, 0.5564444444444444, 1.1118888888888887, 1.6673333333333331, 2.2227777777777775, 2.778222222222222, 3.3336666666666663, 3.8891111111111107, 4.444555555555556, 5.0], 'gamma': [1e-05, 0.3333422222222222, 0.6666744444444443, 1.0000066666666667, 1.3333388888888889, 1.666671111111111, 2.0000033333333334, 2.3333355555555553, 2.6666677777777776, 3.0]},\n",
       "       pre_dispatch='2*n_jobs', refit=True, return_train_score='warn',\n",
       "       scoring=None, verbose=0)"
      ]
     },
     "execution_count": 98,
     "metadata": {},
     "output_type": "execute_result"
    }
   ],
   "source": [
    "params = {'kernel':[\"rbf\", \"sigmoid\"], \n",
    "          \"C\": list(np.linspace(0.001, 5, 10)),\n",
    "          \"gamma\":list(np.linspace(0.00001, 3, 10))\n",
    "         }\n",
    "gs_svc = SVC()\n",
    "gs = GridSearchCV(gs_svc, params)\n",
    "gs.fit(pca_feats, target_classes)"
   ]
  },
  {
   "cell_type": "code",
   "execution_count": 99,
   "metadata": {},
   "outputs": [
    {
     "data": {
      "text/plain": [
       "{'C': 0.5564444444444444, 'gamma': 0.3333422222222222, 'kernel': 'rbf'}"
      ]
     },
     "execution_count": 99,
     "metadata": {},
     "output_type": "execute_result"
    }
   ],
   "source": [
    "gs.best_params_"
   ]
  },
  {
   "cell_type": "code",
   "execution_count": 100,
   "metadata": {},
   "outputs": [
    {
     "data": {
      "text/plain": [
       "0.14696840146900225"
      ]
     },
     "execution_count": 100,
     "metadata": {},
     "output_type": "execute_result"
    }
   ],
   "source": [
    "best_pca = gs.best_estimator_\n",
    "cross_val_score(best_pca, pca_feats, target_classes).mean()"
   ]
  },
  {
   "cell_type": "code",
   "execution_count": 102,
   "metadata": {},
   "outputs": [
    {
     "data": {
      "text/html": [
       "<div>\n",
       "<style scoped>\n",
       "    .dataframe tbody tr th:only-of-type {\n",
       "        vertical-align: middle;\n",
       "    }\n",
       "\n",
       "    .dataframe tbody tr th {\n",
       "        vertical-align: top;\n",
       "    }\n",
       "\n",
       "    .dataframe thead th {\n",
       "        text-align: right;\n",
       "    }\n",
       "</style>\n",
       "<table border=\"1\" class=\"dataframe\">\n",
       "  <thead>\n",
       "    <tr style=\"text-align: right;\">\n",
       "      <th></th>\n",
       "      <th>spot</th>\n",
       "      <th>timestamp</th>\n",
       "      <th>reporter</th>\n",
       "      <th>reporter_grid</th>\n",
       "      <th>snr</th>\n",
       "      <th>frequency</th>\n",
       "      <th>tx_call</th>\n",
       "      <th>tx_grid</th>\n",
       "      <th>power</th>\n",
       "      <th>drift</th>\n",
       "      <th>distance</th>\n",
       "      <th>azimuth</th>\n",
       "      <th>band</th>\n",
       "      <th>version</th>\n",
       "      <th>code</th>\n",
       "    </tr>\n",
       "  </thead>\n",
       "  <tbody>\n",
       "    <tr>\n",
       "      <th>4541493</th>\n",
       "      <td>1093722523</td>\n",
       "      <td>1520245320</td>\n",
       "      <td>DC5AL-R</td>\n",
       "      <td>JO31lk</td>\n",
       "      <td>9</td>\n",
       "      <td>7.040113</td>\n",
       "      <td>G0NJS</td>\n",
       "      <td>IO91vs</td>\n",
       "      <td>37</td>\n",
       "      <td>0</td>\n",
       "      <td>496</td>\n",
       "      <td>91</td>\n",
       "      <td>7</td>\n",
       "      <td>NaN</td>\n",
       "      <td>0</td>\n",
       "    </tr>\n",
       "    <tr>\n",
       "      <th>4692526</th>\n",
       "      <td>1093866340</td>\n",
       "      <td>1520259000</td>\n",
       "      <td>KA3JIJ</td>\n",
       "      <td>EM84cj</td>\n",
       "      <td>-27</td>\n",
       "      <td>10.140175</td>\n",
       "      <td>WB0KSL</td>\n",
       "      <td>EM28nu</td>\n",
       "      <td>37</td>\n",
       "      <td>0</td>\n",
       "      <td>1105</td>\n",
       "      <td>113</td>\n",
       "      <td>10</td>\n",
       "      <td>NaN</td>\n",
       "      <td>0</td>\n",
       "    </tr>\n",
       "    <tr>\n",
       "      <th>17907988</th>\n",
       "      <td>1107180087</td>\n",
       "      <td>1521372240</td>\n",
       "      <td>PI9ESA</td>\n",
       "      <td>JO22ff</td>\n",
       "      <td>-5</td>\n",
       "      <td>10.140179</td>\n",
       "      <td>IQ6KX</td>\n",
       "      <td>JN63so</td>\n",
       "      <td>20</td>\n",
       "      <td>0</td>\n",
       "      <td>1172</td>\n",
       "      <td>328</td>\n",
       "      <td>10</td>\n",
       "      <td>NaN</td>\n",
       "      <td>0</td>\n",
       "    </tr>\n",
       "    <tr>\n",
       "      <th>10270295</th>\n",
       "      <td>1099476317</td>\n",
       "      <td>1520727720</td>\n",
       "      <td>PA0EHG</td>\n",
       "      <td>JO22hb</td>\n",
       "      <td>-17</td>\n",
       "      <td>3.594176</td>\n",
       "      <td>PA7MDJ</td>\n",
       "      <td>JO21is</td>\n",
       "      <td>23</td>\n",
       "      <td>0</td>\n",
       "      <td>33</td>\n",
       "      <td>350</td>\n",
       "      <td>3</td>\n",
       "      <td>NaN</td>\n",
       "      <td>0</td>\n",
       "    </tr>\n",
       "    <tr>\n",
       "      <th>29854808</th>\n",
       "      <td>1119235300</td>\n",
       "      <td>1522494360</td>\n",
       "      <td>AG5OV</td>\n",
       "      <td>EL09</td>\n",
       "      <td>-10</td>\n",
       "      <td>7.040137</td>\n",
       "      <td>WA4KFZ</td>\n",
       "      <td>FM18gv</td>\n",
       "      <td>37</td>\n",
       "      <td>0</td>\n",
       "      <td>2236</td>\n",
       "      <td>249</td>\n",
       "      <td>7</td>\n",
       "      <td>1.9.0-rc3</td>\n",
       "      <td>0</td>\n",
       "    </tr>\n",
       "  </tbody>\n",
       "</table>\n",
       "</div>"
      ],
      "text/plain": [
       "                spot   timestamp reporter reporter_grid  snr  frequency  \\\n",
       "4541493   1093722523  1520245320  DC5AL-R        JO31lk    9   7.040113   \n",
       "4692526   1093866340  1520259000   KA3JIJ        EM84cj  -27  10.140175   \n",
       "17907988  1107180087  1521372240   PI9ESA        JO22ff   -5  10.140179   \n",
       "10270295  1099476317  1520727720   PA0EHG        JO22hb  -17   3.594176   \n",
       "29854808  1119235300  1522494360    AG5OV          EL09  -10   7.040137   \n",
       "\n",
       "         tx_call tx_grid  power  drift  distance  azimuth  band    version  \\\n",
       "4541493    G0NJS  IO91vs     37      0       496       91     7        NaN   \n",
       "4692526   WB0KSL  EM28nu     37      0      1105      113    10        NaN   \n",
       "17907988   IQ6KX  JN63so     20      0      1172      328    10        NaN   \n",
       "10270295  PA7MDJ  JO21is     23      0        33      350     3        NaN   \n",
       "29854808  WA4KFZ  FM18gv     37      0      2236      249     7  1.9.0-rc3   \n",
       "\n",
       "          code  \n",
       "4541493      0  \n",
       "4692526      0  \n",
       "17907988     0  \n",
       "10270295     0  \n",
       "29854808     0  "
      ]
     },
     "execution_count": 102,
     "metadata": {},
     "output_type": "execute_result"
    }
   ],
   "source": [
    "full = pd.read_csv(\"wspr_sample.csv\", index_col=0)\n",
    "full.head()"
   ]
  },
  {
   "cell_type": "code",
   "execution_count": 104,
   "metadata": {},
   "outputs": [],
   "source": [
    "feature_names = [\"frequency\",\n",
    "                 \"power\",\n",
    "                 \"drift\",\n",
    "                 \"distance\",\n",
    "                 \"azimuth\",\n",
    "                 \"band\",\n",
    "                 \"rx_lat\",\n",
    "                 \"rx_long\",\n",
    "                 \"tx_lat\",\n",
    "                 \"tx_long\",\n",
    "                 \"day\",\n",
    "                 \"hour\"]\n",
    "features = df[feature_names]\n",
    "features = (features - features.mean())/features.std()\n",
    "target = full[\"snr\"]\n",
    "target_classes, bins = pd.qcut(target, 10, labels=[i for i in range(10)], retbins=True)"
   ]
  },
  {
   "cell_type": "code",
   "execution_count": 107,
   "metadata": {},
   "outputs": [],
   "source": [
    "pca = PCA()\n",
    "pca_feats = pca.fit_transform(features)\n",
    "pca_feats = pd.DataFrame(pca_feats, columns=[\"PC\"+str(i) for i in range(len(features.columns))])"
   ]
  },
  {
   "cell_type": "code",
   "execution_count": 108,
   "metadata": {},
   "outputs": [
    {
     "data": {
      "text/html": [
       "<div>\n",
       "<style scoped>\n",
       "    .dataframe tbody tr th:only-of-type {\n",
       "        vertical-align: middle;\n",
       "    }\n",
       "\n",
       "    .dataframe tbody tr th {\n",
       "        vertical-align: top;\n",
       "    }\n",
       "\n",
       "    .dataframe thead th {\n",
       "        text-align: right;\n",
       "    }\n",
       "</style>\n",
       "<table border=\"1\" class=\"dataframe\">\n",
       "  <thead>\n",
       "    <tr style=\"text-align: right;\">\n",
       "      <th></th>\n",
       "      <th>PC0</th>\n",
       "      <th>PC1</th>\n",
       "      <th>PC2</th>\n",
       "      <th>PC3</th>\n",
       "      <th>PC4</th>\n",
       "      <th>PC5</th>\n",
       "      <th>PC6</th>\n",
       "      <th>PC7</th>\n",
       "      <th>PC8</th>\n",
       "      <th>PC9</th>\n",
       "      <th>PC10</th>\n",
       "      <th>PC11</th>\n",
       "    </tr>\n",
       "  </thead>\n",
       "  <tbody>\n",
       "    <tr>\n",
       "      <th>0</th>\n",
       "      <td>1.960190</td>\n",
       "      <td>-1.270836</td>\n",
       "      <td>1.479361</td>\n",
       "      <td>0.588865</td>\n",
       "      <td>0.082704</td>\n",
       "      <td>-1.411924</td>\n",
       "      <td>1.025799</td>\n",
       "      <td>-0.129566</td>\n",
       "      <td>0.232171</td>\n",
       "      <td>0.069845</td>\n",
       "      <td>-0.209046</td>\n",
       "      <td>0.006634</td>\n",
       "    </tr>\n",
       "    <tr>\n",
       "      <th>1</th>\n",
       "      <td>4.318921</td>\n",
       "      <td>-1.236890</td>\n",
       "      <td>-5.438284</td>\n",
       "      <td>0.136778</td>\n",
       "      <td>-1.246007</td>\n",
       "      <td>-0.808453</td>\n",
       "      <td>0.377450</td>\n",
       "      <td>-0.922026</td>\n",
       "      <td>-3.447479</td>\n",
       "      <td>-4.527352</td>\n",
       "      <td>1.512608</td>\n",
       "      <td>-0.001058</td>\n",
       "    </tr>\n",
       "    <tr>\n",
       "      <th>2</th>\n",
       "      <td>0.906132</td>\n",
       "      <td>-1.657476</td>\n",
       "      <td>1.722819</td>\n",
       "      <td>0.051477</td>\n",
       "      <td>0.840806</td>\n",
       "      <td>-0.544597</td>\n",
       "      <td>0.281088</td>\n",
       "      <td>-0.654554</td>\n",
       "      <td>0.161595</td>\n",
       "      <td>0.769496</td>\n",
       "      <td>0.238152</td>\n",
       "      <td>0.002948</td>\n",
       "    </tr>\n",
       "    <tr>\n",
       "      <th>3</th>\n",
       "      <td>0.123532</td>\n",
       "      <td>0.853891</td>\n",
       "      <td>-0.016107</td>\n",
       "      <td>-1.954220</td>\n",
       "      <td>-0.591567</td>\n",
       "      <td>-0.389507</td>\n",
       "      <td>-0.756764</td>\n",
       "      <td>0.795943</td>\n",
       "      <td>0.561457</td>\n",
       "      <td>-0.430987</td>\n",
       "      <td>-0.376089</td>\n",
       "      <td>-0.008776</td>\n",
       "    </tr>\n",
       "    <tr>\n",
       "      <th>4</th>\n",
       "      <td>-0.504986</td>\n",
       "      <td>0.881504</td>\n",
       "      <td>0.015482</td>\n",
       "      <td>0.024594</td>\n",
       "      <td>-1.028804</td>\n",
       "      <td>-1.246851</td>\n",
       "      <td>-0.175913</td>\n",
       "      <td>-0.388861</td>\n",
       "      <td>0.420787</td>\n",
       "      <td>0.081840</td>\n",
       "      <td>0.042193</td>\n",
       "      <td>-0.025992</td>\n",
       "    </tr>\n",
       "  </tbody>\n",
       "</table>\n",
       "</div>"
      ],
      "text/plain": [
       "        PC0       PC1       PC2       PC3       PC4       PC5       PC6  \\\n",
       "0  1.960190 -1.270836  1.479361  0.588865  0.082704 -1.411924  1.025799   \n",
       "1  4.318921 -1.236890 -5.438284  0.136778 -1.246007 -0.808453  0.377450   \n",
       "2  0.906132 -1.657476  1.722819  0.051477  0.840806 -0.544597  0.281088   \n",
       "3  0.123532  0.853891 -0.016107 -1.954220 -0.591567 -0.389507 -0.756764   \n",
       "4 -0.504986  0.881504  0.015482  0.024594 -1.028804 -1.246851 -0.175913   \n",
       "\n",
       "        PC7       PC8       PC9      PC10      PC11  \n",
       "0 -0.129566  0.232171  0.069845 -0.209046  0.006634  \n",
       "1 -0.922026 -3.447479 -4.527352  1.512608 -0.001058  \n",
       "2 -0.654554  0.161595  0.769496  0.238152  0.002948  \n",
       "3  0.795943  0.561457 -0.430987 -0.376089 -0.008776  \n",
       "4 -0.388861  0.420787  0.081840  0.042193 -0.025992  "
      ]
     },
     "execution_count": 108,
     "metadata": {},
     "output_type": "execute_result"
    }
   ],
   "source": [
    "pca_feats.head()"
   ]
  },
  {
   "cell_type": "code",
   "execution_count": 115,
   "metadata": {},
   "outputs": [
    {
     "name": "stdout",
     "output_type": "stream",
     "text": [
      "Cross Validation Score:  0.13577720308523097\n",
      "0.6266404199475065\n"
     ]
    }
   ],
   "source": [
    "svc = SVC(C=0.5564444444444444/0.2, gamma=0.3333422222222222)\n",
    "print(\"Cross Validation Score: \", cross_val_score(svc, pca_feats, target_classes, cv=10).mean())\n",
    "svc.fit(pca_feats, target_classes)\n",
    "print(svc.score(pca_feats, target_classes))"
   ]
  },
  {
   "cell_type": "code",
   "execution_count": 120,
   "metadata": {},
   "outputs": [
    {
     "name": "stdout",
     "output_type": "stream",
     "text": [
      "Cross Validation Score:  0.13976441218145508\n",
      "Train Score:  0.13976377952755906\n"
     ]
    }
   ],
   "source": [
    "from sklearn.ensemble import AdaBoostClassifier\n",
    "ada = AdaBoostClassifier(base_estimator=svc, algorithm=\"SAMME\", n_estimators=500)\n",
    "print(\"Cross Validation Score: \", cross_val_score(ada, pca_feats, target_classes, cv=3).mean())\n",
    "ada.fit(pca_feats, target_classes)\n",
    "print(\"Train Score: \", ada.score(pca_feats, target_classes))"
   ]
  },
  {
   "cell_type": "code",
   "execution_count": 121,
   "metadata": {},
   "outputs": [
    {
     "data": {
      "text/plain": [
       "500"
      ]
     },
     "execution_count": 121,
     "metadata": {},
     "output_type": "execute_result"
    }
   ],
   "source": [
    "len(ada.estimators_)"
   ]
  },
  {
   "cell_type": "code",
   "execution_count": null,
   "metadata": {},
   "outputs": [],
   "source": []
  }
 ],
 "metadata": {
  "kernelspec": {
   "display_name": "Python 3",
   "language": "python",
   "name": "python3"
  },
  "language_info": {
   "codemirror_mode": {
    "name": "ipython",
    "version": 3
   },
   "file_extension": ".py",
   "mimetype": "text/x-python",
   "name": "python",
   "nbconvert_exporter": "python",
   "pygments_lexer": "ipython3",
   "version": "3.6.4"
  }
 },
 "nbformat": 4,
 "nbformat_minor": 2
}
