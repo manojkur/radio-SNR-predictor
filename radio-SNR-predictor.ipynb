{
 "cells": [
  {
   "cell_type": "code",
   "execution_count": 19,
   "metadata": {},
   "outputs": [],
   "source": [
    "import numpy as np\n",
    "import pandas as pd\n",
    "from sklearn.linear_model import LinearRegression\n",
    "from sklearn.model_selection import train_test_split\n",
    "from sklearn.metrics import mean_squared_error\n",
    "import matplotlib.pyplot as plt\n",
    "%matplotlib inline"
   ]
  },
  {
   "cell_type": "markdown",
   "metadata": {},
   "source": [
    "# Linear Regression"
   ]
  },
  {
   "cell_type": "code",
   "execution_count": 20,
   "metadata": {},
   "outputs": [
    {
     "data": {
      "text/html": [
       "<div>\n",
       "<style scoped>\n",
       "    .dataframe tbody tr th:only-of-type {\n",
       "        vertical-align: middle;\n",
       "    }\n",
       "\n",
       "    .dataframe tbody tr th {\n",
       "        vertical-align: top;\n",
       "    }\n",
       "\n",
       "    .dataframe thead th {\n",
       "        text-align: right;\n",
       "    }\n",
       "</style>\n",
       "<table border=\"1\" class=\"dataframe\">\n",
       "  <thead>\n",
       "    <tr style=\"text-align: right;\">\n",
       "      <th></th>\n",
       "      <th>Unnamed: 0</th>\n",
       "      <th>spot</th>\n",
       "      <th>timestamp</th>\n",
       "      <th>reporter</th>\n",
       "      <th>reporter_grid</th>\n",
       "      <th>snr</th>\n",
       "      <th>frequency</th>\n",
       "      <th>tx_call</th>\n",
       "      <th>tx_grid</th>\n",
       "      <th>power</th>\n",
       "      <th>drift</th>\n",
       "      <th>distance</th>\n",
       "      <th>azimuth</th>\n",
       "      <th>band</th>\n",
       "      <th>version</th>\n",
       "      <th>code</th>\n",
       "    </tr>\n",
       "  </thead>\n",
       "  <tbody>\n",
       "    <tr>\n",
       "      <th>0</th>\n",
       "      <td>4541493</td>\n",
       "      <td>1093722523</td>\n",
       "      <td>1520245320</td>\n",
       "      <td>DC5AL-R</td>\n",
       "      <td>JO31lk</td>\n",
       "      <td>9</td>\n",
       "      <td>7.040113</td>\n",
       "      <td>G0NJS</td>\n",
       "      <td>IO91vs</td>\n",
       "      <td>37</td>\n",
       "      <td>0</td>\n",
       "      <td>496</td>\n",
       "      <td>91</td>\n",
       "      <td>7</td>\n",
       "      <td>NaN</td>\n",
       "      <td>0</td>\n",
       "    </tr>\n",
       "    <tr>\n",
       "      <th>1</th>\n",
       "      <td>4692526</td>\n",
       "      <td>1093866340</td>\n",
       "      <td>1520259000</td>\n",
       "      <td>KA3JIJ</td>\n",
       "      <td>EM84cj</td>\n",
       "      <td>-27</td>\n",
       "      <td>10.140175</td>\n",
       "      <td>WB0KSL</td>\n",
       "      <td>EM28nu</td>\n",
       "      <td>37</td>\n",
       "      <td>0</td>\n",
       "      <td>1105</td>\n",
       "      <td>113</td>\n",
       "      <td>10</td>\n",
       "      <td>NaN</td>\n",
       "      <td>0</td>\n",
       "    </tr>\n",
       "    <tr>\n",
       "      <th>2</th>\n",
       "      <td>17907988</td>\n",
       "      <td>1107180087</td>\n",
       "      <td>1521372240</td>\n",
       "      <td>PI9ESA</td>\n",
       "      <td>JO22ff</td>\n",
       "      <td>-5</td>\n",
       "      <td>10.140179</td>\n",
       "      <td>IQ6KX</td>\n",
       "      <td>JN63so</td>\n",
       "      <td>20</td>\n",
       "      <td>0</td>\n",
       "      <td>1172</td>\n",
       "      <td>328</td>\n",
       "      <td>10</td>\n",
       "      <td>NaN</td>\n",
       "      <td>0</td>\n",
       "    </tr>\n",
       "  </tbody>\n",
       "</table>\n",
       "</div>"
      ],
      "text/plain": [
       "   Unnamed: 0        spot   timestamp reporter reporter_grid  snr  frequency  \\\n",
       "0     4541493  1093722523  1520245320  DC5AL-R        JO31lk    9   7.040113   \n",
       "1     4692526  1093866340  1520259000   KA3JIJ        EM84cj  -27  10.140175   \n",
       "2    17907988  1107180087  1521372240   PI9ESA        JO22ff   -5  10.140179   \n",
       "\n",
       "  tx_call tx_grid  power  drift  distance  azimuth  band version  code  \n",
       "0   G0NJS  IO91vs     37      0       496       91     7     NaN     0  \n",
       "1  WB0KSL  EM28nu     37      0      1105      113    10     NaN     0  \n",
       "2   IQ6KX  JN63so     20      0      1172      328    10     NaN     0  "
      ]
     },
     "execution_count": 20,
     "metadata": {},
     "output_type": "execute_result"
    }
   ],
   "source": [
    "# read data\n",
    "df = pd.read_csv('wspr_sample.csv')\n",
    "df.head(3)"
   ]
  },
  {
   "cell_type": "code",
   "execution_count": 21,
   "metadata": {},
   "outputs": [],
   "source": [
    "(train,test) = train_test_split(df,train_size=0.8,test_size=0.2)"
   ]
  },
  {
   "cell_type": "code",
   "execution_count": 22,
   "metadata": {},
   "outputs": [
    {
     "data": {
      "text/html": [
       "<div>\n",
       "<style scoped>\n",
       "    .dataframe tbody tr th:only-of-type {\n",
       "        vertical-align: middle;\n",
       "    }\n",
       "\n",
       "    .dataframe tbody tr th {\n",
       "        vertical-align: top;\n",
       "    }\n",
       "\n",
       "    .dataframe thead th {\n",
       "        text-align: right;\n",
       "    }\n",
       "</style>\n",
       "<table border=\"1\" class=\"dataframe\">\n",
       "  <thead>\n",
       "    <tr style=\"text-align: right;\">\n",
       "      <th></th>\n",
       "      <th>frequency</th>\n",
       "      <th>power</th>\n",
       "      <th>distance</th>\n",
       "      <th>azimuth</th>\n",
       "      <th>band</th>\n",
       "    </tr>\n",
       "  </thead>\n",
       "  <tbody>\n",
       "    <tr>\n",
       "      <th>4480</th>\n",
       "      <td>5.366113</td>\n",
       "      <td>30</td>\n",
       "      <td>237</td>\n",
       "      <td>39</td>\n",
       "      <td>5</td>\n",
       "    </tr>\n",
       "    <tr>\n",
       "      <th>13445</th>\n",
       "      <td>7.040046</td>\n",
       "      <td>37</td>\n",
       "      <td>639</td>\n",
       "      <td>296</td>\n",
       "      <td>7</td>\n",
       "    </tr>\n",
       "    <tr>\n",
       "      <th>14473</th>\n",
       "      <td>7.040160</td>\n",
       "      <td>37</td>\n",
       "      <td>988</td>\n",
       "      <td>67</td>\n",
       "      <td>7</td>\n",
       "    </tr>\n",
       "    <tr>\n",
       "      <th>2506</th>\n",
       "      <td>3.594041</td>\n",
       "      <td>30</td>\n",
       "      <td>187</td>\n",
       "      <td>173</td>\n",
       "      <td>3</td>\n",
       "    </tr>\n",
       "    <tr>\n",
       "      <th>3871</th>\n",
       "      <td>14.097077</td>\n",
       "      <td>37</td>\n",
       "      <td>2516</td>\n",
       "      <td>242</td>\n",
       "      <td>14</td>\n",
       "    </tr>\n",
       "  </tbody>\n",
       "</table>\n",
       "</div>"
      ],
      "text/plain": [
       "       frequency  power  distance  azimuth  band\n",
       "4480    5.366113     30       237       39     5\n",
       "13445   7.040046     37       639      296     7\n",
       "14473   7.040160     37       988       67     7\n",
       "2506    3.594041     30       187      173     3\n",
       "3871   14.097077     37      2516      242    14"
      ]
     },
     "execution_count": 22,
     "metadata": {},
     "output_type": "execute_result"
    }
   ],
   "source": [
    "features_train = train[['frequency', 'power', 'distance', 'azimuth', 'band']]\n",
    "features_test = test[['frequency', 'power', 'distance', 'azimuth', 'band']]\n",
    "features_train.head()"
   ]
  },
  {
   "cell_type": "code",
   "execution_count": 23,
   "metadata": {},
   "outputs": [
    {
     "data": {
      "text/plain": [
       "4480      4\n",
       "13445   -20\n",
       "14473     2\n",
       "2506    -10\n",
       "3871    -15\n",
       "Name: snr, dtype: int64"
      ]
     },
     "execution_count": 23,
     "metadata": {},
     "output_type": "execute_result"
    }
   ],
   "source": [
    "target_train = train.snr\n",
    "target_test = test.snr\n",
    "target_train.head()"
   ]
  },
  {
   "cell_type": "code",
   "execution_count": 24,
   "metadata": {},
   "outputs": [],
   "source": [
    "lr = LinearRegression()"
   ]
  },
  {
   "cell_type": "code",
   "execution_count": 25,
   "metadata": {},
   "outputs": [
    {
     "data": {
      "text/plain": [
       "LinearRegression(copy_X=True, fit_intercept=True, n_jobs=1, normalize=False)"
      ]
     },
     "execution_count": 25,
     "metadata": {},
     "output_type": "execute_result"
    }
   ],
   "source": [
    "lr.fit(features_train,target_train)"
   ]
  },
  {
   "cell_type": "code",
   "execution_count": 26,
   "metadata": {},
   "outputs": [
    {
     "data": {
      "text/plain": [
       "84.43652390600073"
      ]
     },
     "execution_count": 26,
     "metadata": {},
     "output_type": "execute_result"
    }
   ],
   "source": [
    "mean_squared_error(target_test, lr.predict(features_test))"
   ]
  },
  {
   "cell_type": "code",
   "execution_count": null,
   "metadata": {},
   "outputs": [],
   "source": []
  }
 ],
 "metadata": {
  "kernelspec": {
   "display_name": "Python 3",
   "language": "python",
   "name": "python3"
  },
  "language_info": {
   "codemirror_mode": {
    "name": "ipython",
    "version": 3
   },
   "file_extension": ".py",
   "mimetype": "text/x-python",
   "name": "python",
   "nbconvert_exporter": "python",
   "pygments_lexer": "ipython3",
   "version": "3.6.4"
  }
 },
 "nbformat": 4,
 "nbformat_minor": 2
}
