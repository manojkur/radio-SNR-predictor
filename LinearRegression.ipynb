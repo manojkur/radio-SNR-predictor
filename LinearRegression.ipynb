{
 "cells": [
  {
   "cell_type": "code",
   "execution_count": 41,
   "metadata": {},
   "outputs": [],
   "source": [
    "import numpy as np\n",
    "import pandas as pd\n",
    "from sklearn.linear_model import LinearRegression\n",
    "from sklearn.model_selection import train_test_split\n",
    "from sklearn.metrics import mean_squared_error\n",
    "from sklearn.preprocessing import PolynomialFeatures\n",
    "from sklearn.model_selection import cross_val_score\n",
    "import matplotlib.pyplot as plt\n",
    "from radio_snr import *\n",
    "%matplotlib inline"
   ]
  },
  {
   "cell_type": "code",
   "execution_count": 42,
   "metadata": {},
   "outputs": [
    {
     "data": {
      "text/html": [
       "<div>\n",
       "<style scoped>\n",
       "    .dataframe tbody tr th:only-of-type {\n",
       "        vertical-align: middle;\n",
       "    }\n",
       "\n",
       "    .dataframe tbody tr th {\n",
       "        vertical-align: top;\n",
       "    }\n",
       "\n",
       "    .dataframe thead th {\n",
       "        text-align: right;\n",
       "    }\n",
       "</style>\n",
       "<table border=\"1\" class=\"dataframe\">\n",
       "  <thead>\n",
       "    <tr style=\"text-align: right;\">\n",
       "      <th></th>\n",
       "      <th>Unnamed: 0</th>\n",
       "      <th>spot</th>\n",
       "      <th>timestamp</th>\n",
       "      <th>reporter</th>\n",
       "      <th>reporter_grid</th>\n",
       "      <th>snr</th>\n",
       "      <th>frequency</th>\n",
       "      <th>tx_call</th>\n",
       "      <th>tx_grid</th>\n",
       "      <th>power</th>\n",
       "      <th>drift</th>\n",
       "      <th>distance</th>\n",
       "      <th>azimuth</th>\n",
       "      <th>band</th>\n",
       "      <th>version</th>\n",
       "      <th>code</th>\n",
       "    </tr>\n",
       "  </thead>\n",
       "  <tbody>\n",
       "    <tr>\n",
       "      <th>0</th>\n",
       "      <td>4541493</td>\n",
       "      <td>1093722523</td>\n",
       "      <td>1520245320</td>\n",
       "      <td>DC5AL-R</td>\n",
       "      <td>JO31lk</td>\n",
       "      <td>9</td>\n",
       "      <td>7.040113</td>\n",
       "      <td>G0NJS</td>\n",
       "      <td>IO91vs</td>\n",
       "      <td>37</td>\n",
       "      <td>0</td>\n",
       "      <td>496</td>\n",
       "      <td>91</td>\n",
       "      <td>7</td>\n",
       "      <td>NaN</td>\n",
       "      <td>0</td>\n",
       "    </tr>\n",
       "    <tr>\n",
       "      <th>1</th>\n",
       "      <td>4692526</td>\n",
       "      <td>1093866340</td>\n",
       "      <td>1520259000</td>\n",
       "      <td>KA3JIJ</td>\n",
       "      <td>EM84cj</td>\n",
       "      <td>-27</td>\n",
       "      <td>10.140175</td>\n",
       "      <td>WB0KSL</td>\n",
       "      <td>EM28nu</td>\n",
       "      <td>37</td>\n",
       "      <td>0</td>\n",
       "      <td>1105</td>\n",
       "      <td>113</td>\n",
       "      <td>10</td>\n",
       "      <td>NaN</td>\n",
       "      <td>0</td>\n",
       "    </tr>\n",
       "    <tr>\n",
       "      <th>2</th>\n",
       "      <td>17907988</td>\n",
       "      <td>1107180087</td>\n",
       "      <td>1521372240</td>\n",
       "      <td>PI9ESA</td>\n",
       "      <td>JO22ff</td>\n",
       "      <td>-5</td>\n",
       "      <td>10.140179</td>\n",
       "      <td>IQ6KX</td>\n",
       "      <td>JN63so</td>\n",
       "      <td>20</td>\n",
       "      <td>0</td>\n",
       "      <td>1172</td>\n",
       "      <td>328</td>\n",
       "      <td>10</td>\n",
       "      <td>NaN</td>\n",
       "      <td>0</td>\n",
       "    </tr>\n",
       "  </tbody>\n",
       "</table>\n",
       "</div>"
      ],
      "text/plain": [
       "   Unnamed: 0        spot   timestamp reporter reporter_grid  snr  frequency  \\\n",
       "0     4541493  1093722523  1520245320  DC5AL-R        JO31lk    9   7.040113   \n",
       "1     4692526  1093866340  1520259000   KA3JIJ        EM84cj  -27  10.140175   \n",
       "2    17907988  1107180087  1521372240   PI9ESA        JO22ff   -5  10.140179   \n",
       "\n",
       "  tx_call tx_grid  power  drift  distance  azimuth  band version  code  \n",
       "0   G0NJS  IO91vs     37      0       496       91     7     NaN     0  \n",
       "1  WB0KSL  EM28nu     37      0      1105      113    10     NaN     0  \n",
       "2   IQ6KX  JN63so     20      0      1172      328    10     NaN     0  "
      ]
     },
     "execution_count": 42,
     "metadata": {},
     "output_type": "execute_result"
    }
   ],
   "source": [
    "# read data\n",
    "df = pd.read_csv('wspr_sample.csv')\n",
    "df.head(3)"
   ]
  },
  {
   "cell_type": "code",
   "execution_count": 43,
   "metadata": {},
   "outputs": [
    {
     "data": {
      "text/html": [
       "<div>\n",
       "<style scoped>\n",
       "    .dataframe tbody tr th:only-of-type {\n",
       "        vertical-align: middle;\n",
       "    }\n",
       "\n",
       "    .dataframe tbody tr th {\n",
       "        vertical-align: top;\n",
       "    }\n",
       "\n",
       "    .dataframe thead th {\n",
       "        text-align: right;\n",
       "    }\n",
       "</style>\n",
       "<table border=\"1\" class=\"dataframe\">\n",
       "  <thead>\n",
       "    <tr style=\"text-align: right;\">\n",
       "      <th></th>\n",
       "      <th>Unnamed: 0</th>\n",
       "      <th>spot</th>\n",
       "      <th>reporter</th>\n",
       "      <th>snr</th>\n",
       "      <th>frequency</th>\n",
       "      <th>tx_call</th>\n",
       "      <th>power</th>\n",
       "      <th>drift</th>\n",
       "      <th>distance</th>\n",
       "      <th>azimuth</th>\n",
       "      <th>band</th>\n",
       "      <th>version</th>\n",
       "      <th>code</th>\n",
       "      <th>rx_lat</th>\n",
       "      <th>rx_long</th>\n",
       "      <th>tx_lat</th>\n",
       "      <th>tx_long</th>\n",
       "      <th>day</th>\n",
       "      <th>hour</th>\n",
       "    </tr>\n",
       "  </thead>\n",
       "  <tbody>\n",
       "    <tr>\n",
       "      <th>0</th>\n",
       "      <td>4541493</td>\n",
       "      <td>1093722523</td>\n",
       "      <td>DC5AL-R</td>\n",
       "      <td>9</td>\n",
       "      <td>7.040113</td>\n",
       "      <td>G0NJS</td>\n",
       "      <td>37</td>\n",
       "      <td>0</td>\n",
       "      <td>496</td>\n",
       "      <td>91</td>\n",
       "      <td>7</td>\n",
       "      <td>NaN</td>\n",
       "      <td>0</td>\n",
       "      <td>51.437500</td>\n",
       "      <td>6.958333</td>\n",
       "      <td>51.770833</td>\n",
       "      <td>-0.208333</td>\n",
       "      <td>17595</td>\n",
       "      <td>10</td>\n",
       "    </tr>\n",
       "    <tr>\n",
       "      <th>1</th>\n",
       "      <td>4692526</td>\n",
       "      <td>1093866340</td>\n",
       "      <td>KA3JIJ</td>\n",
       "      <td>-27</td>\n",
       "      <td>10.140175</td>\n",
       "      <td>WB0KSL</td>\n",
       "      <td>37</td>\n",
       "      <td>0</td>\n",
       "      <td>1105</td>\n",
       "      <td>113</td>\n",
       "      <td>10</td>\n",
       "      <td>NaN</td>\n",
       "      <td>0</td>\n",
       "      <td>34.395833</td>\n",
       "      <td>-83.791667</td>\n",
       "      <td>38.854167</td>\n",
       "      <td>-94.875000</td>\n",
       "      <td>17595</td>\n",
       "      <td>14</td>\n",
       "    </tr>\n",
       "    <tr>\n",
       "      <th>2</th>\n",
       "      <td>17907988</td>\n",
       "      <td>1107180087</td>\n",
       "      <td>PI9ESA</td>\n",
       "      <td>-5</td>\n",
       "      <td>10.140179</td>\n",
       "      <td>IQ6KX</td>\n",
       "      <td>20</td>\n",
       "      <td>0</td>\n",
       "      <td>1172</td>\n",
       "      <td>328</td>\n",
       "      <td>10</td>\n",
       "      <td>NaN</td>\n",
       "      <td>0</td>\n",
       "      <td>52.229167</td>\n",
       "      <td>4.458333</td>\n",
       "      <td>43.604167</td>\n",
       "      <td>13.541667</td>\n",
       "      <td>17608</td>\n",
       "      <td>11</td>\n",
       "    </tr>\n",
       "    <tr>\n",
       "      <th>3</th>\n",
       "      <td>10270295</td>\n",
       "      <td>1099476317</td>\n",
       "      <td>PA0EHG</td>\n",
       "      <td>-17</td>\n",
       "      <td>3.594176</td>\n",
       "      <td>PA7MDJ</td>\n",
       "      <td>23</td>\n",
       "      <td>0</td>\n",
       "      <td>33</td>\n",
       "      <td>350</td>\n",
       "      <td>3</td>\n",
       "      <td>NaN</td>\n",
       "      <td>0</td>\n",
       "      <td>52.062500</td>\n",
       "      <td>4.625000</td>\n",
       "      <td>51.770833</td>\n",
       "      <td>4.708333</td>\n",
       "      <td>17601</td>\n",
       "      <td>0</td>\n",
       "    </tr>\n",
       "    <tr>\n",
       "      <th>4</th>\n",
       "      <td>29854808</td>\n",
       "      <td>1119235300</td>\n",
       "      <td>AG5OV</td>\n",
       "      <td>-10</td>\n",
       "      <td>7.040137</td>\n",
       "      <td>WA4KFZ</td>\n",
       "      <td>37</td>\n",
       "      <td>0</td>\n",
       "      <td>2236</td>\n",
       "      <td>249</td>\n",
       "      <td>7</td>\n",
       "      <td>1.9.0-rc3</td>\n",
       "      <td>0</td>\n",
       "      <td>29.000000</td>\n",
       "      <td>-100.000000</td>\n",
       "      <td>38.895833</td>\n",
       "      <td>-77.458333</td>\n",
       "      <td>17621</td>\n",
       "      <td>11</td>\n",
       "    </tr>\n",
       "  </tbody>\n",
       "</table>\n",
       "</div>"
      ],
      "text/plain": [
       "   Unnamed: 0        spot reporter  snr  frequency tx_call  power  drift  \\\n",
       "0     4541493  1093722523  DC5AL-R    9   7.040113   G0NJS     37      0   \n",
       "1     4692526  1093866340   KA3JIJ  -27  10.140175  WB0KSL     37      0   \n",
       "2    17907988  1107180087   PI9ESA   -5  10.140179   IQ6KX     20      0   \n",
       "3    10270295  1099476317   PA0EHG  -17   3.594176  PA7MDJ     23      0   \n",
       "4    29854808  1119235300    AG5OV  -10   7.040137  WA4KFZ     37      0   \n",
       "\n",
       "   distance  azimuth  band    version  code     rx_lat     rx_long     tx_lat  \\\n",
       "0       496       91     7        NaN     0  51.437500    6.958333  51.770833   \n",
       "1      1105      113    10        NaN     0  34.395833  -83.791667  38.854167   \n",
       "2      1172      328    10        NaN     0  52.229167    4.458333  43.604167   \n",
       "3        33      350     3        NaN     0  52.062500    4.625000  51.770833   \n",
       "4      2236      249     7  1.9.0-rc3     0  29.000000 -100.000000  38.895833   \n",
       "\n",
       "     tx_long    day  hour  \n",
       "0  -0.208333  17595    10  \n",
       "1 -94.875000  17595    14  \n",
       "2  13.541667  17608    11  \n",
       "3   4.708333  17601     0  \n",
       "4 -77.458333  17621    11  "
      ]
     },
     "execution_count": 43,
     "metadata": {},
     "output_type": "execute_result"
    }
   ],
   "source": [
    "df = preprocess_data(df)\n",
    "df.head()"
   ]
  },
  {
   "cell_type": "code",
   "execution_count": 44,
   "metadata": {},
   "outputs": [
    {
     "data": {
      "text/html": [
       "<div>\n",
       "<style scoped>\n",
       "    .dataframe tbody tr th:only-of-type {\n",
       "        vertical-align: middle;\n",
       "    }\n",
       "\n",
       "    .dataframe tbody tr th {\n",
       "        vertical-align: top;\n",
       "    }\n",
       "\n",
       "    .dataframe thead th {\n",
       "        text-align: right;\n",
       "    }\n",
       "</style>\n",
       "<table border=\"1\" class=\"dataframe\">\n",
       "  <thead>\n",
       "    <tr style=\"text-align: right;\">\n",
       "      <th></th>\n",
       "      <th>frequency</th>\n",
       "      <th>drift</th>\n",
       "      <th>power</th>\n",
       "      <th>distance</th>\n",
       "      <th>azimuth</th>\n",
       "      <th>band</th>\n",
       "      <th>rx_lat</th>\n",
       "      <th>rx_long</th>\n",
       "      <th>tx_lat</th>\n",
       "      <th>tx_long</th>\n",
       "      <th>day</th>\n",
       "      <th>hour</th>\n",
       "    </tr>\n",
       "  </thead>\n",
       "  <tbody>\n",
       "    <tr>\n",
       "      <th>0</th>\n",
       "      <td>-0.073770</td>\n",
       "      <td>0.187161</td>\n",
       "      <td>0.970548</td>\n",
       "      <td>-0.577759</td>\n",
       "      <td>-0.735826</td>\n",
       "      <td>-0.058661</td>\n",
       "      <td>0.463378</td>\n",
       "      <td>0.564921</td>\n",
       "      <td>0.550277</td>\n",
       "      <td>0.422731</td>\n",
       "      <td>-1.169538</td>\n",
       "      <td>-0.341381</td>\n",
       "    </tr>\n",
       "    <tr>\n",
       "      <th>1</th>\n",
       "      <td>0.202010</td>\n",
       "      <td>0.187161</td>\n",
       "      <td>0.970548</td>\n",
       "      <td>-0.315188</td>\n",
       "      <td>-0.536315</td>\n",
       "      <td>0.206899</td>\n",
       "      <td>-0.611041</td>\n",
       "      <td>-1.075748</td>\n",
       "      <td>-0.360096</td>\n",
       "      <td>-1.297914</td>\n",
       "      <td>-1.169538</td>\n",
       "      <td>0.263284</td>\n",
       "    </tr>\n",
       "    <tr>\n",
       "      <th>2</th>\n",
       "      <td>0.202010</td>\n",
       "      <td>0.187161</td>\n",
       "      <td>-1.376072</td>\n",
       "      <td>-0.286301</td>\n",
       "      <td>1.413448</td>\n",
       "      <td>0.206899</td>\n",
       "      <td>0.513290</td>\n",
       "      <td>0.519724</td>\n",
       "      <td>-0.025314</td>\n",
       "      <td>0.672648</td>\n",
       "      <td>0.273569</td>\n",
       "      <td>-0.190215</td>\n",
       "    </tr>\n",
       "    <tr>\n",
       "      <th>3</th>\n",
       "      <td>-0.380319</td>\n",
       "      <td>0.187161</td>\n",
       "      <td>-0.961962</td>\n",
       "      <td>-0.777381</td>\n",
       "      <td>1.612959</td>\n",
       "      <td>-0.412740</td>\n",
       "      <td>0.502782</td>\n",
       "      <td>0.522737</td>\n",
       "      <td>0.550277</td>\n",
       "      <td>0.512095</td>\n",
       "      <td>-0.503488</td>\n",
       "      <td>-1.853044</td>\n",
       "    </tr>\n",
       "    <tr>\n",
       "      <th>4</th>\n",
       "      <td>-0.073768</td>\n",
       "      <td>0.187161</td>\n",
       "      <td>0.970548</td>\n",
       "      <td>0.172443</td>\n",
       "      <td>0.697024</td>\n",
       "      <td>-0.058661</td>\n",
       "      <td>-0.951229</td>\n",
       "      <td>-1.368778</td>\n",
       "      <td>-0.357160</td>\n",
       "      <td>-0.981352</td>\n",
       "      <td>1.716676</td>\n",
       "      <td>-0.190215</td>\n",
       "    </tr>\n",
       "  </tbody>\n",
       "</table>\n",
       "</div>"
      ],
      "text/plain": [
       "   frequency     drift     power  distance   azimuth      band    rx_lat  \\\n",
       "0  -0.073770  0.187161  0.970548 -0.577759 -0.735826 -0.058661  0.463378   \n",
       "1   0.202010  0.187161  0.970548 -0.315188 -0.536315  0.206899 -0.611041   \n",
       "2   0.202010  0.187161 -1.376072 -0.286301  1.413448  0.206899  0.513290   \n",
       "3  -0.380319  0.187161 -0.961962 -0.777381  1.612959 -0.412740  0.502782   \n",
       "4  -0.073768  0.187161  0.970548  0.172443  0.697024 -0.058661 -0.951229   \n",
       "\n",
       "    rx_long    tx_lat   tx_long       day      hour  \n",
       "0  0.564921  0.550277  0.422731 -1.169538 -0.341381  \n",
       "1 -1.075748 -0.360096 -1.297914 -1.169538  0.263284  \n",
       "2  0.519724 -0.025314  0.672648  0.273569 -0.190215  \n",
       "3  0.522737  0.550277  0.512095 -0.503488 -1.853044  \n",
       "4 -1.368778 -0.357160 -0.981352  1.716676 -0.190215  "
      ]
     },
     "execution_count": 44,
     "metadata": {},
     "output_type": "execute_result"
    }
   ],
   "source": [
    "features = df[['frequency', 'drift', 'power', 'distance', 'azimuth', 'band', 'rx_lat', 'rx_long', 'tx_lat', 'tx_long', 'day', 'hour']]\n",
    "features = (features-features.mean())/features.std()\n",
    "features.head()"
   ]
  },
  {
   "cell_type": "code",
   "execution_count": 45,
   "metadata": {},
   "outputs": [
    {
     "data": {
      "text/plain": [
       "0     9\n",
       "1   -27\n",
       "2    -5\n",
       "3   -17\n",
       "4   -10\n",
       "Name: snr, dtype: int64"
      ]
     },
     "execution_count": 45,
     "metadata": {},
     "output_type": "execute_result"
    }
   ],
   "source": [
    "target = df.snr\n",
    "target.head()"
   ]
  },
  {
   "cell_type": "code",
   "execution_count": 46,
   "metadata": {},
   "outputs": [],
   "source": [
    "lr = LinearRegression()"
   ]
  },
  {
   "cell_type": "code",
   "execution_count": 47,
   "metadata": {},
   "outputs": [],
   "source": [
    "n = 25\n",
    "err = np.zeros(n)\n",
    "for k in range(n):\n",
    "    df1 = df.sample(frac=1, replace=False).copy()\n",
    "    features = df1[['frequency', 'drift', 'power', 'distance', 'azimuth', 'band', 'rx_lat', 'rx_long', 'tx_lat', 'tx_long', 'day', 'hour']]\n",
    "    target = df1.snr\n",
    "    err[k] = -cross_val_score(lr, features, target, cv=10, scoring='neg_mean_squared_error').mean()"
   ]
  },
  {
   "cell_type": "code",
   "execution_count": 48,
   "metadata": {},
   "outputs": [
    {
     "data": {
      "text/plain": [
       "9.121773449269025"
      ]
     },
     "execution_count": 48,
     "metadata": {},
     "output_type": "execute_result"
    }
   ],
   "source": [
    "np.sqrt(err.mean())"
   ]
  },
  {
   "cell_type": "code",
   "execution_count": 49,
   "metadata": {},
   "outputs": [],
   "source": [
    "n = 25\n",
    "r2 = np.zeros(n)\n",
    "for k in range(n):\n",
    "    df1 = df.sample(frac=1, replace=False).copy()\n",
    "    features = df1[['frequency', 'drift', 'power', 'distance', 'azimuth', 'band', 'rx_lat', 'rx_long', 'tx_lat', 'tx_long', 'day', 'hour']]\n",
    "    target = df1.snr\n",
    "    r2[k] = cross_val_score(lr, features, target, cv=10, scoring='r2').mean()"
   ]
  },
  {
   "cell_type": "code",
   "execution_count": 50,
   "metadata": {},
   "outputs": [
    {
     "data": {
      "text/plain": [
       "0.08574488719520551"
      ]
     },
     "execution_count": 50,
     "metadata": {},
     "output_type": "execute_result"
    }
   ],
   "source": [
    "r2.mean()"
   ]
  },
  {
   "cell_type": "markdown",
   "metadata": {},
   "source": [
    "RMSE: 9.121524610184592\n",
    "\n",
    "R^2: 0.085661044374066"
   ]
  },
  {
   "cell_type": "code",
   "execution_count": 51,
   "metadata": {},
   "outputs": [
    {
     "data": {
      "text/plain": [
       "LinearRegression(copy_X=True, fit_intercept=True, n_jobs=1, normalize=False)"
      ]
     },
     "execution_count": 51,
     "metadata": {},
     "output_type": "execute_result"
    }
   ],
   "source": [
    "lr.fit(features,target)"
   ]
  },
  {
   "cell_type": "code",
   "execution_count": 52,
   "metadata": {},
   "outputs": [
    {
     "data": {
      "text/plain": [
       "0.08792473022430003"
      ]
     },
     "execution_count": 52,
     "metadata": {},
     "output_type": "execute_result"
    }
   ],
   "source": [
    "lr.score(features,target)"
   ]
  },
  {
   "cell_type": "code",
   "execution_count": null,
   "metadata": {},
   "outputs": [],
   "source": []
  }
 ],
 "metadata": {
  "kernelspec": {
   "display_name": "Python 3",
   "language": "python",
   "name": "python3"
  },
  "language_info": {
   "codemirror_mode": {
    "name": "ipython",
    "version": 3
   },
   "file_extension": ".py",
   "mimetype": "text/x-python",
   "name": "python",
   "nbconvert_exporter": "python",
   "pygments_lexer": "ipython3",
   "version": "3.6.4"
  }
 },
 "nbformat": 4,
 "nbformat_minor": 2
}
